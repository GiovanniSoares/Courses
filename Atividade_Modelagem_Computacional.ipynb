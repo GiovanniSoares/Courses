{
  "nbformat": 4,
  "nbformat_minor": 0,
  "metadata": {
    "colab": {
      "name": "Atividade Modelagem Computacional.ipynb",
      "provenance": [],
      "collapsed_sections": [],
      "authorship_tag": "ABX9TyOBji1gFb/8saBBdk8OZdGX",
      "include_colab_link": true
    },
    "kernelspec": {
      "name": "python3",
      "display_name": "Python 3"
    }
  },
  "cells": [
    {
      "cell_type": "markdown",
      "metadata": {
        "id": "view-in-github",
        "colab_type": "text"
      },
      "source": [
        "<a href=\"https://colab.research.google.com/github/GiovanniSoares/Courses/blob/main/Atividade_Modelagem_Computacional.ipynb\" target=\"_parent\"><img src=\"https://colab.research.google.com/assets/colab-badge.svg\" alt=\"Open In Colab\"/></a>"
      ]
    },
    {
      "cell_type": "markdown",
      "metadata": {
        "id": "ZbhF8UJfQGEY"
      },
      "source": [
        "# **Nome: Giovanni Soares Ramos**\n",
        "# RA: 6293835\n"
      ]
    },
    {
      "cell_type": "markdown",
      "metadata": {
        "id": "tf8S1vwGdwHQ"
      },
      "source": [
        "# **Exercício 1**\n",
        "# **PROGRAMA FILA M/M/1 - PEÇAS**\n",
        "\n",
        "\n"
      ]
    },
    {
      "cell_type": "code",
      "metadata": {
        "id": "cCBVsCWaeI-K"
      },
      "source": [
        "TA = 4/60;                              #TEMPO MÉDIONDE PROCESSAMENTO\n",
        "lamda=10;                               #RITIMO MÉDIO DE CHEGADA\n",
        "mi = 1/TA;                              #TAXA PROCESSAMENTO PEÇAS POR HORA\n",
        "rho=lamda/mi;                           #TAXA DE UTILIZAÇÃO\n",
        "n = 0;                                  #QUANTIDADE DE ATENDENTES\n",
        "Pn =((1-lamda/mi)*(lamda/mi)**n)*100;   #PROBABILIDADE DE EXISTIREM N CLIENTES NO SISTEMA\n",
        "NF=(lamda**2)/(mi*(mi-lamda));          #NÚMERO MÉDIO DE CLIENTES NA FILA\n",
        "NS = lamda/(mi-lamda);                  #NÚMERO MÉDIO DE CLIENTES NO SISTEMA\n",
        "TS = 1/(mi-lamda);                      #TEMPO MÉDIO DE PERMANÊNCIA NO SISTEMA\n",
        "TF =  lamda/(mi*(mi-lamda));            #TEMPO MÉDIO DE PERMANÊNCIA NA FILA\n",
        "Qp = (1-(Pn/100))*mi;                   #QUANTIDADE DE PEÇAS POR HORA"
      ],
      "execution_count": null,
      "outputs": []
    },
    {
      "cell_type": "markdown",
      "metadata": {
        "id": "ENzT2EunII4F"
      },
      "source": [
        "# A) Qual a probabilidade do posto de trabalho estar livre?"
      ]
    },
    {
      "cell_type": "code",
      "metadata": {
        "id": "Duxs8qDMeRiB",
        "colab": {
          "base_uri": "https://localhost:8080/",
          "height": 34
        },
        "outputId": "1646d77d-eb0a-4ae6-a815-2ca753488934"
      },
      "source": [
        "print('A probabilidade do posto de trabalho está ocioso é aproximadamente {0:.1f} %'.format(Pn))"
      ],
      "execution_count": null,
      "outputs": [
        {
          "output_type": "stream",
          "text": [
            "A probabilidade do posto de trabalho está ocioso é aproximadamente 33.3 %\n"
          ],
          "name": "stdout"
        }
      ]
    },
    {
      "cell_type": "markdown",
      "metadata": {
        "id": "573Pznt5IQgS"
      },
      "source": [
        "# B) Qual o número médio de peças esperando na fila?"
      ]
    },
    {
      "cell_type": "code",
      "metadata": {
        "id": "X6jgJHQghKzr",
        "colab": {
          "base_uri": "https://localhost:8080/",
          "height": 34
        },
        "outputId": "db4480d5-a5ee-4984-8adb-bd047b55bd75"
      },
      "source": [
        "print('O número de peças na fila é de {0:2f} peças'.format(NF))"
      ],
      "execution_count": null,
      "outputs": [
        {
          "output_type": "stream",
          "text": [
            "O número de peças na fila é de 1.333333 peças\n"
          ],
          "name": "stdout"
        }
      ]
    },
    {
      "cell_type": "markdown",
      "metadata": {
        "id": "V1cD208UIojo"
      },
      "source": [
        "# C) Qual o tempo médio que uma peça gasta no sistema (tempo na fila mais o tempo de atendimento)?"
      ]
    },
    {
      "cell_type": "code",
      "metadata": {
        "id": "52RCzsRJIahi",
        "colab": {
          "base_uri": "https://localhost:8080/",
          "height": 34
        },
        "outputId": "1edee19b-e466-4c65-99ff-a5f82cc460b7"
      },
      "source": [
        "print('O tempo médio que uma peça ficou no sistema é de {0:}'.format(TS))"
      ],
      "execution_count": null,
      "outputs": [
        {
          "output_type": "stream",
          "text": [
            "O tempo médio q uma pessoa ficou no sistema é de 0.2\n"
          ],
          "name": "stdout"
        }
      ]
    },
    {
      "cell_type": "markdown",
      "metadata": {
        "id": "XdjEA1BOI7ef"
      },
      "source": [
        "# D) Quantas peças serão processadas em média por hora?\n"
      ]
    },
    {
      "cell_type": "code",
      "metadata": {
        "id": "hJNCinB-Iqu9",
        "colab": {
          "base_uri": "https://localhost:8080/",
          "height": 34
        },
        "outputId": "10d6a2cc-2d3b-4412-8d2b-856741e02854"
      },
      "source": [
        "print('A quantidade de peças processadas por hora é de {0:}'.format(Qp))"
      ],
      "execution_count": null,
      "outputs": [
        {
          "output_type": "stream",
          "text": [
            "A quantidade de peças processadas por hora é de 10.0\n"
          ],
          "name": "stdout"
        }
      ]
    },
    {
      "cell_type": "markdown",
      "metadata": {
        "id": "c_epNA8WdapA"
      },
      "source": [
        "\n",
        "\n",
        "---\n",
        "\n"
      ]
    },
    {
      "cell_type": "markdown",
      "metadata": {
        "id": "VH8VDtmZK2qK"
      },
      "source": [
        "# **Exercício 2**\n",
        "# **PROGRAMA FILA M/M/1 - NAVIOS**"
      ]
    },
    {
      "cell_type": "code",
      "metadata": {
        "id": "zujegHa9K7fD"
      },
      "source": [
        "TA = 3/24;                              #TEMPO MÉDIONDE PROCESSAMENTO\n",
        "lamda=6;                                #RITIMO MÉDIO DE CHEGADA\n",
        "mi = 1/TA;                              #TAXA PROCESSAMENTO PEÇAS POR HORA\n",
        "n = 0;                                  #QUANTIDADE DE ATENDENTES\n",
        "Pn =((1-lamda/mi)*(lamda/mi)**n)*100;   #PROBABILIDADE DE EXISTIREM N CLIENTES NO SISTEMA\n",
        "NF=(lamda**2)/(mi*(mi-lamda));          #NÚMERO MÉDIO DE CLIENTES NA FILA\n",
        "NS = lamda/(mi-lamda);                  #NÚMERO MÉDIO DE CLIENTES NO SISTEMA\n",
        "TS = 1/(mi-lamda);                      #TEMPO MÉDIO DE PERMANÊNCIA NO SISTEMA\n",
        "TF =  lamda/(mi*(mi-lamda));            #TEMPO MÉDIO DE PERMANÊNCIA NA FILA\n",
        "NP= (NS-NF);                            #SUBTRAÇÃO DE CLIENTES NO SISTEMA E CLIENTES NA FILA"
      ],
      "execution_count": null,
      "outputs": []
    },
    {
      "cell_type": "markdown",
      "metadata": {
        "id": "iqQWxlhQLyft"
      },
      "source": [
        "# A) Qual é a probabilidade de um navio chegar ao porto e não esperar para atracar?"
      ]
    },
    {
      "cell_type": "code",
      "metadata": {
        "id": "qtbuKuFrLpsI",
        "colab": {
          "base_uri": "https://localhost:8080/",
          "height": 34
        },
        "outputId": "7fceaf2d-d580-4218-99c8-0bbe1e4266d8"
      },
      "source": [
        "print('A probabilidade de um navio chegar ao porto e não esperar para atracar é {0:.1f} %'.format(Pn))"
      ],
      "execution_count": null,
      "outputs": [
        {
          "output_type": "stream",
          "text": [
            "A probabilidade de um navio chegar ao porto e não esperar para atracar é 25.0 %\n"
          ],
          "name": "stdout"
        }
      ]
    },
    {
      "cell_type": "markdown",
      "metadata": {
        "id": "pxIFwg55L424"
      },
      "source": [
        "# B) Qual é a quantidade média de navios na fila do porto?"
      ]
    },
    {
      "cell_type": "code",
      "metadata": {
        "id": "0o1PZmxvL9jN",
        "colab": {
          "base_uri": "https://localhost:8080/",
          "height": 34
        },
        "outputId": "83cbb055-e080-473b-d41a-f258be363890"
      },
      "source": [
        "print('A quantidade média de navios na fila do porto é de {0:} navios'.format(NF))"
      ],
      "execution_count": null,
      "outputs": [
        {
          "output_type": "stream",
          "text": [
            "A quantidade média de navios na fila do porto é de 2.25 navios\n"
          ],
          "name": "stdout"
        }
      ]
    },
    {
      "cell_type": "markdown",
      "metadata": {
        "id": "opq67bH7L-Pp"
      },
      "source": [
        "# C) Qual é a quantidade média de navios no sistema portuário?\n"
      ]
    },
    {
      "cell_type": "code",
      "metadata": {
        "id": "A0XYD9ouMECM",
        "colab": {
          "base_uri": "https://localhost:8080/",
          "height": 34
        },
        "outputId": "0476a414-ef91-4ae2-8425-bfcbece62b27"
      },
      "source": [
        "print(' A quantidade média de navios no sistema portuário é de {0:} navios'.format(NS))"
      ],
      "execution_count": null,
      "outputs": [
        {
          "output_type": "stream",
          "text": [
            " A quantidade média de navios no sistema portuário é de 3.0 navios\n"
          ],
          "name": "stdout"
        }
      ]
    },
    {
      "cell_type": "markdown",
      "metadata": {
        "id": "vhr4L0bEMJkc"
      },
      "source": [
        "# D) Qual é a quantidade média de navios utilizando o porto?\n"
      ]
    },
    {
      "cell_type": "code",
      "metadata": {
        "id": "mgdtgj6IMMUk",
        "colab": {
          "base_uri": "https://localhost:8080/",
          "height": 34
        },
        "outputId": "8dcfaa4d-0121-4ed9-b394-077dcd5232fa"
      },
      "source": [
        "print('A quantidade de navios utilizando o porto {0:} navios'.format(NP))"
      ],
      "execution_count": null,
      "outputs": [
        {
          "output_type": "stream",
          "text": [
            "A quantidade de navios utilizando o porto 0.75 navios\n"
          ],
          "name": "stdout"
        }
      ]
    },
    {
      "cell_type": "markdown",
      "metadata": {
        "id": "2LW2ceyodeyN"
      },
      "source": [
        "\n",
        "\n",
        "---\n",
        "\n"
      ]
    },
    {
      "cell_type": "markdown",
      "metadata": {
        "id": "iVB52eeqYfP7"
      },
      "source": [
        "# **Exercício 3**\n",
        "\n",
        "Distribuição de Poisson\n",
        "\n",
        "Nível de significância de 𝛼 = 5%\n"
      ]
    },
    {
      "cell_type": "markdown",
      "metadata": {
        "id": "cohfDCXoTNZ5"
      },
      "source": [
        "# A) Plotar o gráfico das frequências observadas e teórica (teste de aderencia visual)."
      ]
    },
    {
      "cell_type": "code",
      "metadata": {
        "id": "OebSvy-kTl81"
      },
      "source": [
        "import matplotlib.pyplot as plt\n",
        "import numpy as np\n",
        "import pandas as pd\n",
        "from scipy.stats import chi2"
      ],
      "execution_count": null,
      "outputs": []
    },
    {
      "cell_type": "code",
      "metadata": {
        "id": "GBkRYjxSTdUr",
        "colab": {
          "base_uri": "https://localhost:8080/",
          "height": 295
        },
        "outputId": "f18ad5ea-9c03-45ae-f40a-4f291054b86e"
      },
      "source": [
        "QC=np.arange(0,6,1);\n",
        "FO = np.array([15,22,15,4,3,1]);\n",
        "FT= np.array([15.55,21,14.17,6.38,2.15,0.58]);\n",
        "plt.plot(QC,FO,'b-o',QC,FT,'r-*')\n",
        "plt.title (\"Teste de Aderência Visual\")\n",
        "plt.legend(['Frequencia Observada','Frequencia Teorica'],loc=1)\n",
        "plt.xlabel ('Classes')\n",
        "plt.ylabel ('Frequencias')\n",
        "plt.show();"
      ],
      "execution_count": null,
      "outputs": [
        {
          "output_type": "display_data",
          "data": {
            "image/png": "[encoded data removed]",
            "text/plain": [
              "<Figure size 432x288 with 1 Axes>"
            ]
          },
          "metadata": {
            "tags": [],
            "needs_background": "light"
          }
        }
      ]
    },
    {
      "cell_type": "markdown",
      "metadata": {
        "id": "HLJDTiNETa7p"
      },
      "source": [
        "## B) Realizar teste de hipótese para distribuição de Poisson"
      ]
    },
    {
      "cell_type": "code",
      "metadata": {
        "id": "RRK4fnqBTb4B",
        "colab": {
          "base_uri": "https://localhost:8080/",
          "height": 51
        },
        "outputId": "3ee0e00d-2f5d-4a9a-dbae-beedf9c83362"
      },
      "source": [
        "Qui2=sum((FO-FT)**2/FT);  #QUI-QUADRADO \n",
        "k=len(FO);                #NÚMERO DE CLASSES\n",
        "p=0.95                    #PROBABILIDADE\n",
        "c=1;                      #PARÂMETRO\n",
        "df=k-1-c                  #GRAUS DE LIBERDADE\n",
        "QuiCritical=chi2.ppf(p,df)\n",
        "print(Qui2)\n",
        "print(QuiCritical)"
      ],
      "execution_count": null,
      "outputs": [
        {
          "output_type": "stream",
          "text": [
            "1.6437106531308254\n",
            "9.487729036781154\n"
          ],
          "name": "stdout"
        }
      ]
    },
    {
      "cell_type": "code",
      "metadata": {
        "id": "Cgfa09OKYt3y",
        "colab": {
          "base_uri": "https://localhost:8080/",
          "height": 34
        },
        "outputId": "32e0326e-a54a-4acf-8af1-e3009a86c7fc"
      },
      "source": [
        "if (Qui2 < QuiCritical):\n",
        "  print('Como o Qui2 é < QuiCritical não se pode rejeitar o H0')\n",
        "else:\n",
        "  print('Como o Qui2 é > QuiCritical rejeita-se o H0 ')"
      ],
      "execution_count": null,
      "outputs": [
        {
          "output_type": "stream",
          "text": [
            "Como o Qui2 é < QuiCritical não se pode rejeitar o H0\n"
          ],
          "name": "stdout"
        }
      ]
    },
    {
      "cell_type": "markdown",
      "metadata": {
        "id": "qXQww1mQdhaM"
      },
      "source": [
        "\n",
        "\n",
        "\n",
        "---\n",
        "\n",
        "\n",
        "\n",
        "---\n",
        "\n"
      ]
    }
  ]
}